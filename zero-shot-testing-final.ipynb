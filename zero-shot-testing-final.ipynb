{
 "cells": [
  {
   "cell_type": "code",
   "execution_count": 2,
   "id": "69d34c9a",
   "metadata": {},
   "outputs": [
    {
     "data": {
      "text/html": [
       "<style>.container { width:100% !important; }</style>"
      ],
      "text/plain": [
       "<IPython.core.display.HTML object>"
      ]
     },
     "metadata": {},
     "output_type": "display_data"
    }
   ],
   "source": [
    "from IPython.display import display, HTML\n",
    "display(HTML(\"<style>.container { width:100% !important; }</style>\"))"
   ]
  },
  {
   "cell_type": "code",
   "execution_count": 1,
   "id": "7c4ed82f",
   "metadata": {},
   "outputs": [
    {
     "name": "stderr",
     "output_type": "stream",
     "text": [
      "2023-11-26 21:53:12.190002: I tensorflow/core/platform/cpu_feature_guard.cc:182] This TensorFlow binary is optimized to use available CPU instructions in performance-critical operations.\n",
      "To enable the following instructions: AVX2 FMA, in other operations, rebuild TensorFlow with the appropriate compiler flags.\n",
      "2023-11-26 21:53:13.028093: W tensorflow/compiler/tf2tensorrt/utils/py_utils.cc:38] TF-TRT Warning: Could not find TensorRT\n"
     ]
    }
   ],
   "source": [
    "import torch\n",
    "import gloria\n",
    "import pandas as pd \n",
    "import numpy as np \n",
    "\n",
    "df = pd.read_csv('pretrained/chexpert_5x200.csv')\n",
    "df['Path'] = '../imagedata/' + df['Path']\n"
   ]
  },
  {
   "cell_type": "code",
   "execution_count": 2,
   "id": "2e7457c3",
   "metadata": {},
   "outputs": [],
   "source": [
    "cls_prompts_list = np.load('cls_prompts_5.npy', allow_pickle=True)"
   ]
  },
  {
   "cell_type": "code",
   "execution_count": 8,
   "id": "38be690d",
   "metadata": {},
   "outputs": [],
   "source": [
    "# load model\n",
    "device = \"cuda:3\" if torch.cuda.is_available() else \"cpu\"\n",
    "\n",
    "# gloria_model = gloria.load_gloria(name = 'data/ckpt/gloria_pretrain_trial_1_1.0/2023_11_22_22_52_17/epoch=14-step=12149.ckpt', device=device) # resnet50\n",
    "gloria_model = gloria.load_gloria(name = 'data/ckpt/gloria_pretrain_trial_1_1.0/2023_11_23_10_53_14/epoch=16-step=13769.ckpt', device=device) # vit-hybrid\n",
    "\n",
    "gloria_model = gloria_model.eval()"
   ]
  },
  {
   "cell_type": "code",
   "execution_count": 5,
   "id": "f2b859a1",
   "metadata": {},
   "outputs": [],
   "source": [
    "gt = np.concatenate([np.array([0]*200), np.array([1]*200),np.array([2]*200), np.array([3]*200), np.array([4]*200)])"
   ]
  },
  {
   "cell_type": "markdown",
   "id": "06dfcae4",
   "metadata": {},
   "source": [
    "## Zero-shot classification"
   ]
  },
  {
   "cell_type": "code",
   "execution_count": 9,
   "id": "bb611657",
   "metadata": {},
   "outputs": [
    {
     "name": "stdout",
     "output_type": "stream",
     "text": [
      "Run: 0\n"
     ]
    },
    {
     "name": "stderr",
     "output_type": "stream",
     "text": [
      "/raid/biplab/phduser1/saikat/ADL_project/gloria/gloria/models/gloria_model.py:271: UserWarning: To copy construct from a tensor, it is recommended to use sourceTensor.clone().detach() or sourceTensor.clone().detach().requires_grad_(True), rather than torch.tensor(sourceTensor).\n",
      "  all_imgs.append(torch.tensor(img))\n"
     ]
    },
    {
     "name": "stdout",
     "output_type": "stream",
     "text": [
      "Accuracy: 0.359\n",
      "Run: 1\n"
     ]
    },
    {
     "name": "stderr",
     "output_type": "stream",
     "text": [
      "/raid/biplab/phduser1/saikat/ADL_project/gloria/gloria/models/gloria_model.py:271: UserWarning: To copy construct from a tensor, it is recommended to use sourceTensor.clone().detach() or sourceTensor.clone().detach().requires_grad_(True), rather than torch.tensor(sourceTensor).\n",
      "  all_imgs.append(torch.tensor(img))\n"
     ]
    },
    {
     "name": "stdout",
     "output_type": "stream",
     "text": [
      "Accuracy: 0.393\n",
      "Run: 2\n"
     ]
    },
    {
     "name": "stderr",
     "output_type": "stream",
     "text": [
      "/raid/biplab/phduser1/saikat/ADL_project/gloria/gloria/models/gloria_model.py:271: UserWarning: To copy construct from a tensor, it is recommended to use sourceTensor.clone().detach() or sourceTensor.clone().detach().requires_grad_(True), rather than torch.tensor(sourceTensor).\n",
      "  all_imgs.append(torch.tensor(img))\n"
     ]
    },
    {
     "name": "stdout",
     "output_type": "stream",
     "text": [
      "Accuracy: 0.437\n",
      "Run: 3\n"
     ]
    },
    {
     "name": "stderr",
     "output_type": "stream",
     "text": [
      "/raid/biplab/phduser1/saikat/ADL_project/gloria/gloria/models/gloria_model.py:271: UserWarning: To copy construct from a tensor, it is recommended to use sourceTensor.clone().detach() or sourceTensor.clone().detach().requires_grad_(True), rather than torch.tensor(sourceTensor).\n",
      "  all_imgs.append(torch.tensor(img))\n"
     ]
    },
    {
     "name": "stdout",
     "output_type": "stream",
     "text": [
      "Accuracy: 0.44\n",
      "Run: 4\n"
     ]
    },
    {
     "name": "stderr",
     "output_type": "stream",
     "text": [
      "/raid/biplab/phduser1/saikat/ADL_project/gloria/gloria/models/gloria_model.py:271: UserWarning: To copy construct from a tensor, it is recommended to use sourceTensor.clone().detach() or sourceTensor.clone().detach().requires_grad_(True), rather than torch.tensor(sourceTensor).\n",
      "  all_imgs.append(torch.tensor(img))\n"
     ]
    },
    {
     "name": "stdout",
     "output_type": "stream",
     "text": [
      "Accuracy: 0.343\n"
     ]
    }
   ],
   "source": [
    "acc_list = []\n",
    "\n",
    "for i, cls_prompts in enumerate(cls_prompts_list):\n",
    "    print (f'Run: {i}')\n",
    "    \n",
    "    processed_imgs = gloria_model.process_img(df['Path'].tolist(), device) \n",
    "\n",
    "    processed_txt = gloria_model.process_class_prompts(cls_prompts, device)\n",
    "\n",
    "    with torch.no_grad():\n",
    "        # zero-shot classification on 1000 images\n",
    "        similarities = gloria.zero_shot_classification(\n",
    "            gloria_model, processed_imgs, processed_txt)\n",
    "\n",
    "    # print(similarities)\n",
    "    sim = similarities.to_numpy()\n",
    "    pred = np.argmax(sim, axis=1)\n",
    "    acc = (pred==gt).sum()/len(gt)\n",
    "    \n",
    "    acc_list.append(acc)\n",
    "    print (f'Accuracy: {acc}')\n",
    "    \n",
    "\n"
   ]
  },
  {
   "cell_type": "code",
   "execution_count": 10,
   "id": "35400341",
   "metadata": {},
   "outputs": [
    {
     "name": "stdout",
     "output_type": "stream",
     "text": [
      "Avg acc: 0.3944\n",
      "Std acc: 0.03947454876246212\n"
     ]
    }
   ],
   "source": [
    "print (f'Avg acc: {np.mean(acc_list)}')\n",
    "print (f'Std acc: {np.std(acc_list)}')"
   ]
  },
  {
   "cell_type": "code",
   "execution_count": null,
   "id": "38743a09",
   "metadata": {},
   "outputs": [],
   "source": []
  },
  {
   "cell_type": "markdown",
   "id": "ee1d15ee",
   "metadata": {},
   "source": [
    "## Zero-shot classification for large model \n"
   ]
  },
  {
   "cell_type": "code",
   "execution_count": 11,
   "id": "b665c15b",
   "metadata": {},
   "outputs": [],
   "source": [
    "gloria_model = gloria.load_gloria(name = 'data/ckpt/gloria_pretrain_trial_1_1.0/2023_11_23_19_58_12/epoch=14-step=12149.ckpt', device=device) # swin\n",
    "\n",
    "gloria_model = gloria_model.eval()\n"
   ]
  },
  {
   "cell_type": "code",
   "execution_count": 12,
   "id": "e028a163",
   "metadata": {},
   "outputs": [],
   "source": [
    "from gloria.utils import utils"
   ]
  },
  {
   "cell_type": "code",
   "execution_count": 13,
   "id": "714d449f",
   "metadata": {
    "scrolled": true
   },
   "outputs": [
    {
     "name": "stdout",
     "output_type": "stream",
     "text": [
      "Run: 0\n"
     ]
    },
    {
     "name": "stderr",
     "output_type": "stream",
     "text": [
      "/raid/biplab/phduser1/saikat/ADL_project/gloria/gloria/models/gloria_model.py:271: UserWarning: To copy construct from a tensor, it is recommended to use sourceTensor.clone().detach() or sourceTensor.clone().detach().requires_grad_(True), rather than torch.tensor(sourceTensor).\n",
      "  all_imgs.append(torch.tensor(img))\n",
      "/raid/biplab/phduser1/saikat/ADL_project/gloria/gloria/models/gloria_model.py:271: UserWarning: To copy construct from a tensor, it is recommended to use sourceTensor.clone().detach() or sourceTensor.clone().detach().requires_grad_(True), rather than torch.tensor(sourceTensor).\n",
      "  all_imgs.append(torch.tensor(img))\n",
      "/raid/biplab/phduser1/saikat/ADL_project/gloria/gloria/models/gloria_model.py:271: UserWarning: To copy construct from a tensor, it is recommended to use sourceTensor.clone().detach() or sourceTensor.clone().detach().requires_grad_(True), rather than torch.tensor(sourceTensor).\n",
      "  all_imgs.append(torch.tensor(img))\n",
      "/raid/biplab/phduser1/saikat/ADL_project/gloria/gloria/models/gloria_model.py:271: UserWarning: To copy construct from a tensor, it is recommended to use sourceTensor.clone().detach() or sourceTensor.clone().detach().requires_grad_(True), rather than torch.tensor(sourceTensor).\n",
      "  all_imgs.append(torch.tensor(img))\n",
      "/raid/biplab/phduser1/saikat/ADL_project/gloria/gloria/models/gloria_model.py:271: UserWarning: To copy construct from a tensor, it is recommended to use sourceTensor.clone().detach() or sourceTensor.clone().detach().requires_grad_(True), rather than torch.tensor(sourceTensor).\n",
      "  all_imgs.append(torch.tensor(img))\n",
      "/raid/biplab/phduser1/saikat/ADL_project/gloria/gloria/models/gloria_model.py:271: UserWarning: To copy construct from a tensor, it is recommended to use sourceTensor.clone().detach() or sourceTensor.clone().detach().requires_grad_(True), rather than torch.tensor(sourceTensor).\n",
      "  all_imgs.append(torch.tensor(img))\n",
      "/raid/biplab/phduser1/saikat/ADL_project/gloria/gloria/models/gloria_model.py:271: UserWarning: To copy construct from a tensor, it is recommended to use sourceTensor.clone().detach() or sourceTensor.clone().detach().requires_grad_(True), rather than torch.tensor(sourceTensor).\n",
      "  all_imgs.append(torch.tensor(img))\n",
      "/raid/biplab/phduser1/saikat/ADL_project/gloria/gloria/models/gloria_model.py:271: UserWarning: To copy construct from a tensor, it is recommended to use sourceTensor.clone().detach() or sourceTensor.clone().detach().requires_grad_(True), rather than torch.tensor(sourceTensor).\n",
      "  all_imgs.append(torch.tensor(img))\n",
      "/raid/biplab/phduser1/saikat/ADL_project/gloria/gloria/models/gloria_model.py:271: UserWarning: To copy construct from a tensor, it is recommended to use sourceTensor.clone().detach() or sourceTensor.clone().detach().requires_grad_(True), rather than torch.tensor(sourceTensor).\n",
      "  all_imgs.append(torch.tensor(img))\n",
      "/raid/biplab/phduser1/saikat/ADL_project/gloria/gloria/models/gloria_model.py:271: UserWarning: To copy construct from a tensor, it is recommended to use sourceTensor.clone().detach() or sourceTensor.clone().detach().requires_grad_(True), rather than torch.tensor(sourceTensor).\n",
      "  all_imgs.append(torch.tensor(img))\n"
     ]
    },
    {
     "name": "stdout",
     "output_type": "stream",
     "text": [
      "Accuracy: 0.335\n",
      "Run: 1\n"
     ]
    },
    {
     "name": "stderr",
     "output_type": "stream",
     "text": [
      "/raid/biplab/phduser1/saikat/ADL_project/gloria/gloria/models/gloria_model.py:271: UserWarning: To copy construct from a tensor, it is recommended to use sourceTensor.clone().detach() or sourceTensor.clone().detach().requires_grad_(True), rather than torch.tensor(sourceTensor).\n",
      "  all_imgs.append(torch.tensor(img))\n",
      "/raid/biplab/phduser1/saikat/ADL_project/gloria/gloria/models/gloria_model.py:271: UserWarning: To copy construct from a tensor, it is recommended to use sourceTensor.clone().detach() or sourceTensor.clone().detach().requires_grad_(True), rather than torch.tensor(sourceTensor).\n",
      "  all_imgs.append(torch.tensor(img))\n",
      "/raid/biplab/phduser1/saikat/ADL_project/gloria/gloria/models/gloria_model.py:271: UserWarning: To copy construct from a tensor, it is recommended to use sourceTensor.clone().detach() or sourceTensor.clone().detach().requires_grad_(True), rather than torch.tensor(sourceTensor).\n",
      "  all_imgs.append(torch.tensor(img))\n",
      "/raid/biplab/phduser1/saikat/ADL_project/gloria/gloria/models/gloria_model.py:271: UserWarning: To copy construct from a tensor, it is recommended to use sourceTensor.clone().detach() or sourceTensor.clone().detach().requires_grad_(True), rather than torch.tensor(sourceTensor).\n",
      "  all_imgs.append(torch.tensor(img))\n",
      "/raid/biplab/phduser1/saikat/ADL_project/gloria/gloria/models/gloria_model.py:271: UserWarning: To copy construct from a tensor, it is recommended to use sourceTensor.clone().detach() or sourceTensor.clone().detach().requires_grad_(True), rather than torch.tensor(sourceTensor).\n",
      "  all_imgs.append(torch.tensor(img))\n",
      "/raid/biplab/phduser1/saikat/ADL_project/gloria/gloria/models/gloria_model.py:271: UserWarning: To copy construct from a tensor, it is recommended to use sourceTensor.clone().detach() or sourceTensor.clone().detach().requires_grad_(True), rather than torch.tensor(sourceTensor).\n",
      "  all_imgs.append(torch.tensor(img))\n",
      "/raid/biplab/phduser1/saikat/ADL_project/gloria/gloria/models/gloria_model.py:271: UserWarning: To copy construct from a tensor, it is recommended to use sourceTensor.clone().detach() or sourceTensor.clone().detach().requires_grad_(True), rather than torch.tensor(sourceTensor).\n",
      "  all_imgs.append(torch.tensor(img))\n",
      "/raid/biplab/phduser1/saikat/ADL_project/gloria/gloria/models/gloria_model.py:271: UserWarning: To copy construct from a tensor, it is recommended to use sourceTensor.clone().detach() or sourceTensor.clone().detach().requires_grad_(True), rather than torch.tensor(sourceTensor).\n",
      "  all_imgs.append(torch.tensor(img))\n",
      "/raid/biplab/phduser1/saikat/ADL_project/gloria/gloria/models/gloria_model.py:271: UserWarning: To copy construct from a tensor, it is recommended to use sourceTensor.clone().detach() or sourceTensor.clone().detach().requires_grad_(True), rather than torch.tensor(sourceTensor).\n",
      "  all_imgs.append(torch.tensor(img))\n",
      "/raid/biplab/phduser1/saikat/ADL_project/gloria/gloria/models/gloria_model.py:271: UserWarning: To copy construct from a tensor, it is recommended to use sourceTensor.clone().detach() or sourceTensor.clone().detach().requires_grad_(True), rather than torch.tensor(sourceTensor).\n",
      "  all_imgs.append(torch.tensor(img))\n"
     ]
    },
    {
     "name": "stdout",
     "output_type": "stream",
     "text": [
      "Accuracy: 0.28\n",
      "Run: 2\n"
     ]
    },
    {
     "name": "stderr",
     "output_type": "stream",
     "text": [
      "/raid/biplab/phduser1/saikat/ADL_project/gloria/gloria/models/gloria_model.py:271: UserWarning: To copy construct from a tensor, it is recommended to use sourceTensor.clone().detach() or sourceTensor.clone().detach().requires_grad_(True), rather than torch.tensor(sourceTensor).\n",
      "  all_imgs.append(torch.tensor(img))\n",
      "/raid/biplab/phduser1/saikat/ADL_project/gloria/gloria/models/gloria_model.py:271: UserWarning: To copy construct from a tensor, it is recommended to use sourceTensor.clone().detach() or sourceTensor.clone().detach().requires_grad_(True), rather than torch.tensor(sourceTensor).\n",
      "  all_imgs.append(torch.tensor(img))\n",
      "/raid/biplab/phduser1/saikat/ADL_project/gloria/gloria/models/gloria_model.py:271: UserWarning: To copy construct from a tensor, it is recommended to use sourceTensor.clone().detach() or sourceTensor.clone().detach().requires_grad_(True), rather than torch.tensor(sourceTensor).\n",
      "  all_imgs.append(torch.tensor(img))\n",
      "/raid/biplab/phduser1/saikat/ADL_project/gloria/gloria/models/gloria_model.py:271: UserWarning: To copy construct from a tensor, it is recommended to use sourceTensor.clone().detach() or sourceTensor.clone().detach().requires_grad_(True), rather than torch.tensor(sourceTensor).\n",
      "  all_imgs.append(torch.tensor(img))\n",
      "/raid/biplab/phduser1/saikat/ADL_project/gloria/gloria/models/gloria_model.py:271: UserWarning: To copy construct from a tensor, it is recommended to use sourceTensor.clone().detach() or sourceTensor.clone().detach().requires_grad_(True), rather than torch.tensor(sourceTensor).\n",
      "  all_imgs.append(torch.tensor(img))\n",
      "/raid/biplab/phduser1/saikat/ADL_project/gloria/gloria/models/gloria_model.py:271: UserWarning: To copy construct from a tensor, it is recommended to use sourceTensor.clone().detach() or sourceTensor.clone().detach().requires_grad_(True), rather than torch.tensor(sourceTensor).\n",
      "  all_imgs.append(torch.tensor(img))\n",
      "/raid/biplab/phduser1/saikat/ADL_project/gloria/gloria/models/gloria_model.py:271: UserWarning: To copy construct from a tensor, it is recommended to use sourceTensor.clone().detach() or sourceTensor.clone().detach().requires_grad_(True), rather than torch.tensor(sourceTensor).\n",
      "  all_imgs.append(torch.tensor(img))\n",
      "/raid/biplab/phduser1/saikat/ADL_project/gloria/gloria/models/gloria_model.py:271: UserWarning: To copy construct from a tensor, it is recommended to use sourceTensor.clone().detach() or sourceTensor.clone().detach().requires_grad_(True), rather than torch.tensor(sourceTensor).\n",
      "  all_imgs.append(torch.tensor(img))\n",
      "/raid/biplab/phduser1/saikat/ADL_project/gloria/gloria/models/gloria_model.py:271: UserWarning: To copy construct from a tensor, it is recommended to use sourceTensor.clone().detach() or sourceTensor.clone().detach().requires_grad_(True), rather than torch.tensor(sourceTensor).\n",
      "  all_imgs.append(torch.tensor(img))\n",
      "/raid/biplab/phduser1/saikat/ADL_project/gloria/gloria/models/gloria_model.py:271: UserWarning: To copy construct from a tensor, it is recommended to use sourceTensor.clone().detach() or sourceTensor.clone().detach().requires_grad_(True), rather than torch.tensor(sourceTensor).\n",
      "  all_imgs.append(torch.tensor(img))\n"
     ]
    },
    {
     "name": "stdout",
     "output_type": "stream",
     "text": [
      "Accuracy: 0.391\n",
      "Run: 3\n"
     ]
    },
    {
     "name": "stderr",
     "output_type": "stream",
     "text": [
      "/raid/biplab/phduser1/saikat/ADL_project/gloria/gloria/models/gloria_model.py:271: UserWarning: To copy construct from a tensor, it is recommended to use sourceTensor.clone().detach() or sourceTensor.clone().detach().requires_grad_(True), rather than torch.tensor(sourceTensor).\n",
      "  all_imgs.append(torch.tensor(img))\n",
      "/raid/biplab/phduser1/saikat/ADL_project/gloria/gloria/models/gloria_model.py:271: UserWarning: To copy construct from a tensor, it is recommended to use sourceTensor.clone().detach() or sourceTensor.clone().detach().requires_grad_(True), rather than torch.tensor(sourceTensor).\n",
      "  all_imgs.append(torch.tensor(img))\n",
      "/raid/biplab/phduser1/saikat/ADL_project/gloria/gloria/models/gloria_model.py:271: UserWarning: To copy construct from a tensor, it is recommended to use sourceTensor.clone().detach() or sourceTensor.clone().detach().requires_grad_(True), rather than torch.tensor(sourceTensor).\n",
      "  all_imgs.append(torch.tensor(img))\n",
      "/raid/biplab/phduser1/saikat/ADL_project/gloria/gloria/models/gloria_model.py:271: UserWarning: To copy construct from a tensor, it is recommended to use sourceTensor.clone().detach() or sourceTensor.clone().detach().requires_grad_(True), rather than torch.tensor(sourceTensor).\n",
      "  all_imgs.append(torch.tensor(img))\n",
      "/raid/biplab/phduser1/saikat/ADL_project/gloria/gloria/models/gloria_model.py:271: UserWarning: To copy construct from a tensor, it is recommended to use sourceTensor.clone().detach() or sourceTensor.clone().detach().requires_grad_(True), rather than torch.tensor(sourceTensor).\n",
      "  all_imgs.append(torch.tensor(img))\n",
      "/raid/biplab/phduser1/saikat/ADL_project/gloria/gloria/models/gloria_model.py:271: UserWarning: To copy construct from a tensor, it is recommended to use sourceTensor.clone().detach() or sourceTensor.clone().detach().requires_grad_(True), rather than torch.tensor(sourceTensor).\n",
      "  all_imgs.append(torch.tensor(img))\n",
      "/raid/biplab/phduser1/saikat/ADL_project/gloria/gloria/models/gloria_model.py:271: UserWarning: To copy construct from a tensor, it is recommended to use sourceTensor.clone().detach() or sourceTensor.clone().detach().requires_grad_(True), rather than torch.tensor(sourceTensor).\n",
      "  all_imgs.append(torch.tensor(img))\n",
      "/raid/biplab/phduser1/saikat/ADL_project/gloria/gloria/models/gloria_model.py:271: UserWarning: To copy construct from a tensor, it is recommended to use sourceTensor.clone().detach() or sourceTensor.clone().detach().requires_grad_(True), rather than torch.tensor(sourceTensor).\n",
      "  all_imgs.append(torch.tensor(img))\n",
      "/raid/biplab/phduser1/saikat/ADL_project/gloria/gloria/models/gloria_model.py:271: UserWarning: To copy construct from a tensor, it is recommended to use sourceTensor.clone().detach() or sourceTensor.clone().detach().requires_grad_(True), rather than torch.tensor(sourceTensor).\n",
      "  all_imgs.append(torch.tensor(img))\n",
      "/raid/biplab/phduser1/saikat/ADL_project/gloria/gloria/models/gloria_model.py:271: UserWarning: To copy construct from a tensor, it is recommended to use sourceTensor.clone().detach() or sourceTensor.clone().detach().requires_grad_(True), rather than torch.tensor(sourceTensor).\n",
      "  all_imgs.append(torch.tensor(img))\n"
     ]
    },
    {
     "name": "stdout",
     "output_type": "stream",
     "text": [
      "Accuracy: 0.367\n",
      "Run: 4\n"
     ]
    },
    {
     "name": "stderr",
     "output_type": "stream",
     "text": [
      "/raid/biplab/phduser1/saikat/ADL_project/gloria/gloria/models/gloria_model.py:271: UserWarning: To copy construct from a tensor, it is recommended to use sourceTensor.clone().detach() or sourceTensor.clone().detach().requires_grad_(True), rather than torch.tensor(sourceTensor).\n",
      "  all_imgs.append(torch.tensor(img))\n",
      "/raid/biplab/phduser1/saikat/ADL_project/gloria/gloria/models/gloria_model.py:271: UserWarning: To copy construct from a tensor, it is recommended to use sourceTensor.clone().detach() or sourceTensor.clone().detach().requires_grad_(True), rather than torch.tensor(sourceTensor).\n",
      "  all_imgs.append(torch.tensor(img))\n",
      "/raid/biplab/phduser1/saikat/ADL_project/gloria/gloria/models/gloria_model.py:271: UserWarning: To copy construct from a tensor, it is recommended to use sourceTensor.clone().detach() or sourceTensor.clone().detach().requires_grad_(True), rather than torch.tensor(sourceTensor).\n",
      "  all_imgs.append(torch.tensor(img))\n",
      "/raid/biplab/phduser1/saikat/ADL_project/gloria/gloria/models/gloria_model.py:271: UserWarning: To copy construct from a tensor, it is recommended to use sourceTensor.clone().detach() or sourceTensor.clone().detach().requires_grad_(True), rather than torch.tensor(sourceTensor).\n",
      "  all_imgs.append(torch.tensor(img))\n",
      "/raid/biplab/phduser1/saikat/ADL_project/gloria/gloria/models/gloria_model.py:271: UserWarning: To copy construct from a tensor, it is recommended to use sourceTensor.clone().detach() or sourceTensor.clone().detach().requires_grad_(True), rather than torch.tensor(sourceTensor).\n",
      "  all_imgs.append(torch.tensor(img))\n",
      "/raid/biplab/phduser1/saikat/ADL_project/gloria/gloria/models/gloria_model.py:271: UserWarning: To copy construct from a tensor, it is recommended to use sourceTensor.clone().detach() or sourceTensor.clone().detach().requires_grad_(True), rather than torch.tensor(sourceTensor).\n",
      "  all_imgs.append(torch.tensor(img))\n",
      "/raid/biplab/phduser1/saikat/ADL_project/gloria/gloria/models/gloria_model.py:271: UserWarning: To copy construct from a tensor, it is recommended to use sourceTensor.clone().detach() or sourceTensor.clone().detach().requires_grad_(True), rather than torch.tensor(sourceTensor).\n",
      "  all_imgs.append(torch.tensor(img))\n",
      "/raid/biplab/phduser1/saikat/ADL_project/gloria/gloria/models/gloria_model.py:271: UserWarning: To copy construct from a tensor, it is recommended to use sourceTensor.clone().detach() or sourceTensor.clone().detach().requires_grad_(True), rather than torch.tensor(sourceTensor).\n",
      "  all_imgs.append(torch.tensor(img))\n",
      "/raid/biplab/phduser1/saikat/ADL_project/gloria/gloria/models/gloria_model.py:271: UserWarning: To copy construct from a tensor, it is recommended to use sourceTensor.clone().detach() or sourceTensor.clone().detach().requires_grad_(True), rather than torch.tensor(sourceTensor).\n",
      "  all_imgs.append(torch.tensor(img))\n",
      "/raid/biplab/phduser1/saikat/ADL_project/gloria/gloria/models/gloria_model.py:271: UserWarning: To copy construct from a tensor, it is recommended to use sourceTensor.clone().detach() or sourceTensor.clone().detach().requires_grad_(True), rather than torch.tensor(sourceTensor).\n",
      "  all_imgs.append(torch.tensor(img))\n"
     ]
    },
    {
     "name": "stdout",
     "output_type": "stream",
     "text": [
      "Accuracy: 0.392\n"
     ]
    }
   ],
   "source": [
    "acc_list = []\n",
    "\n",
    "for idx, cls_prompts in enumerate(cls_prompts_list):\n",
    "    print (f'Run: {idx}')\n",
    "\n",
    "    similarities_list = []\n",
    "    \n",
    "    processed_txt = gloria_model.process_class_prompts(cls_prompts, device)\n",
    "\n",
    "    for i in range(0,1000,100):\n",
    "        processed_imgs = gloria_model.process_img(df['Path'].tolist()[i:i+100], device) \n",
    "\n",
    "        with torch.no_grad():\n",
    "            \n",
    "            similarities_sample = gloria.zero_shot_classification_no_norm(\n",
    "                gloria_model, processed_imgs, processed_txt)\n",
    "\n",
    "        similarities_list.append(similarities_sample)\n",
    "    \n",
    "    \n",
    "    similarities = np.concatenate(similarities_list, axis=0)\n",
    "    sim = utils.normalize(similarities)\n",
    "    \n",
    "    pred = np.argmax(sim, axis=1)\n",
    "    acc = (pred==gt).sum()/len(gt)\n",
    "    \n",
    "    acc_list.append(acc)\n",
    "    print (f'Accuracy: {acc}')\n",
    "    \n"
   ]
  },
  {
   "cell_type": "code",
   "execution_count": 17,
   "id": "eeaf48b9",
   "metadata": {},
   "outputs": [
    {
     "data": {
      "text/plain": [
       "[0.335, 0.28, 0.391, 0.367, 0.392]"
      ]
     },
     "execution_count": 17,
     "metadata": {},
     "output_type": "execute_result"
    }
   ],
   "source": [
    "acc_list"
   ]
  },
  {
   "cell_type": "code",
   "execution_count": 18,
   "id": "babc8782",
   "metadata": {},
   "outputs": [
    {
     "name": "stdout",
     "output_type": "stream",
     "text": [
      "Avg acc: 0.35300000000000004\n",
      "Std acc: 0.041985711855344304\n"
     ]
    }
   ],
   "source": [
    "print (f'Avg acc: {np.mean(acc_list)}')\n",
    "print (f'Std acc: {np.std(acc_list)}')"
   ]
  }
 ],
 "metadata": {
  "kernelspec": {
   "display_name": "Python 3 (ipykernel)",
   "language": "python",
   "name": "python3"
  },
  "language_info": {
   "codemirror_mode": {
    "name": "ipython",
    "version": 3
   },
   "file_extension": ".py",
   "mimetype": "text/x-python",
   "name": "python",
   "nbconvert_exporter": "python",
   "pygments_lexer": "ipython3",
   "version": "3.8.5"
  }
 },
 "nbformat": 4,
 "nbformat_minor": 5
}
